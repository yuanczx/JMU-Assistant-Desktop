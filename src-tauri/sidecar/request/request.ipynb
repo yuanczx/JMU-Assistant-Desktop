{
 "cells": [
  {
   "cell_type": "code",
   "execution_count": null,
   "metadata": {
    "collapsed": true
   },
   "outputs": [],
   "source": [
    "import requests"
   ]
  },
  {
   "cell_type": "code",
   "execution_count": null,
   "outputs": [],
   "source": [
    "index_url = 'https://cas.paas.jmu.edu.cn/cas/login?service=http%3A%2F%2Fjwxt.jmu.edu.cn%2Fstudent%2Fsso%2Flogin'\n",
    "detect_url = 'https://cas.paas.jmu.edu.cn/cas/mfa/detect'\n",
    "login_url = 'https://cas.paas.jmu.edu.cn/cas/login?service=http://jwxt.jmu.edu.cn/student/sso/login'\n",
    "user_name = 'username'  #############################\n",
    "user_pwd = 'password'  #############################\n",
    "index_res = requests.get(index_url)\n",
    "session = index_res.cookies['SESSION']\n",
    "session"
   ],
   "metadata": {
    "collapsed": false
   }
  },
  {
   "cell_type": "code",
   "execution_count": null,
   "outputs": [],
   "source": [
    "detect_data = {\n",
    "    'username': user_name,\n",
    "    'password': user_pwd\n",
    "}\n",
    "\n",
    "detect_res = requests.post(detect_url, data=detect_data, headers={'cookie': f'SESSION={session}'})\n",
    "mfa_state = detect_res.json()['data']['state']\n",
    "mfa_state"
   ],
   "metadata": {
    "collapsed": false
   }
  },
  {
   "cell_type": "code",
   "execution_count": null,
   "outputs": [],
   "source": [
    "login_data = {\n",
    "    'username': user_name,\n",
    "    'password': user_pwd,\n",
    "    'mfaState': mfa_state,\n",
    "    'execution': 'e1s1',\n",
    "    '_eventId': 'submit',\n",
    "    'submit': 'Login1'\n",
    "}\n",
    "\n",
    "login_res = requests.post(login_url, data=login_data, headers={'cookie': f'SESSION={session}'}, allow_redirects=True)"
   ],
   "metadata": {
    "collapsed": false
   }
  },
  {
   "cell_type": "code",
   "execution_count": null,
   "outputs": [],
   "source": [
    "verified_session = login_res.history[1].cookies['SESSION']  #cookie:SESSION\n",
    "verified_pstsid = login_res.history[1].cookies['__pstsid__']  #cookie:__pstsid__\n",
    "verified_cookie = f'SESSION={verified_session};__pstsid__={verified_pstsid}'\n",
    "verified_cookie"
   ],
   "metadata": {
    "collapsed": false
   }
  }
 ],
 "metadata": {
  "kernelspec": {
   "display_name": "Python 3",
   "language": "python",
   "name": "python3"
  },
  "language_info": {
   "codemirror_mode": {
    "name": "ipython",
    "version": 2
   },
   "file_extension": ".py",
   "mimetype": "text/x-python",
   "name": "python",
   "nbconvert_exporter": "python",
   "pygments_lexer": "ipython2",
   "version": "2.7.6"
  }
 },
 "nbformat": 4,
 "nbformat_minor": 0
}
